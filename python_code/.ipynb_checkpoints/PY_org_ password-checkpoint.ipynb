{
 "cells": [
  {
   "cell_type": "code",
   "execution_count": 5,
   "id": "94697882",
   "metadata": {},
   "outputs": [],
   "source": [
    "# INFORMATION : je vais utimliser la fonction mode_passe() dans la fonction identifiez_vous() ci-bas\n",
    "def mot_de_passe():\n",
    "    import string\n",
    "    print(\"ATTENTION! Le mot de passe doit contenir au moins 8 caractères \\n\"\n",
    "          \"et doit inclure au moins 1 chiffre, 1 caractère spécial,\\n\"\n",
    "          \"1 lettre majuscule et 1 lettre minuscule.\")\n",
    "    print(\"\\n\")\n",
    "    while True:\n",
    "        motdepass = input('creer un mot de passe: ')\n",
    "        if len(motdepass) >= 8:\n",
    "            if any(char.islower() for char in motdepass) and \\\n",
    "               any(char.isupper() for char in motdepass) and \\\n",
    "               any(char in string.punctuation for char in motdepass) and \\\n",
    "               any(char.isnumeric() for char in motdepass):\n",
    "                print('Mot de passe valide')\n",
    "                if len(motdepass) >= 10:\n",
    "                    print(\"le mot de passe est hautement securisé\")\n",
    "                else:\n",
    "                    print(\"le mot de passe est moyennement securisé\")\n",
    "                break\n",
    "\n",
    "            else:\n",
    "                if not any(char.islower() for char in motdepass):\n",
    "                    print('Mot de passe invalide: doit contenir une letre miniscule')\n",
    "                if not any(char.isupper() for char in motdepass):\n",
    "                    print('Mot de passe invalide: doit contenir une letre majuscule')\n",
    "                if not any(char in string.punctuation for char in motdepass):\n",
    "                    print('Mot de passe invalide: doit contenir un caractere speciale')\n",
    "                if not any(char.isnumeric() for char in motdepass):\n",
    "                    print('Mot de passe invalide: doit contenir un chifre')\n",
    "\n",
    "        else:\n",
    "            print(\"Le mot de passe doit contenir 8 caractères au moins \")\n"
   ]
  },
  {
   "cell_type": "code",
   "execution_count": null,
   "id": "38971095",
   "metadata": {},
   "outputs": [],
   "source": []
  },
  {
   "cell_type": "markdown",
   "id": "b0846a30",
   "metadata": {},
   "source": [
    "def conteneur_compte():\n",
    "    utilisateur = [\"mamadou\", \"bariga\", \"bandje\"]\n",
    "    pass_word = [\"mamaWD1?\", \"barigaexpert\", \"Salo3mon|\"]\n",
    "    return utilisateur \n",
    "    return pass_word "
   ]
  },
  {
   "cell_type": "code",
   "execution_count": 6,
   "id": "c0277d65",
   "metadata": {},
   "outputs": [],
   "source": [
    "def identifiez_vous():\n",
    "    \"\"\"\n",
    "    Fonction permettant de s'identifier ou de créer un compte utilisateur.\n",
    "    \"\"\"\n",
    "    # Les listes des utilisateurs\n",
    "    utilisateur = [\"mamadou\", \"bariga\", \"bandje\"]\n",
    "    pass_word = [\"mamaWD1?\", \"barigaexpert\", \"Salo3mon|\"]\n",
    "    ##Interface d'accueil    \n",
    "    print(\"BIENVENUE SUR LA BANQUE DE DONNÉES\")\n",
    "    print(\"1 - Se connecter\")\n",
    "    print(\"2 - Créer un compte\")\n",
    "    print(\"0 - Quitter\")\n",
    "    print(\"~~~~~~~~~~~~~~~~~~~~~~~~~~~~~~~~~~~~~~~~~~~~~~~~~~~~~~\")\n",
    "    # Choix\n",
    "    try:\n",
    "        choix = int(input(\"Entrez 1 pour se connecter, 2 pour créer un compte ou 0 pour quitter : \"))\n",
    "    except ValueError:\n",
    "        print(\"vous devez entrer un chifre, Merci\")\n",
    "\n",
    "    # Se connecter\n",
    "    while True:\n",
    "        if choix == 1:\n",
    "            # Initialisation du nombre d'essais de mot de passe\n",
    "            tentative = 3\n",
    "            while tentative > 0:\n",
    "                nom_utilisateur = input(\"Entrez votre nom d'utilisateur : \")\n",
    "                mot_de_pass = input(\"Entrez votre mot de passe : \")\n",
    "                # si condition vérifiée, il se connecte\n",
    "                # Vérification des informations d'identification\n",
    "        ########### je peut utiliser une boucle for sur range(len(utilisateur)) afin d'avoir le rang ########## \n",
    "        # mais je vais etre simple en utilisant index()\n",
    "                if nom_utilisateur in utilisateur and mot_de_pass in pass_word:\n",
    "                    # Vérification de la correspondance des indices\n",
    "                    # on a le rang du nom on peut l'appeler en faisant du slicing \n",
    "                    rang = utilisateur.index(nom_utilisateur)\n",
    "                    # se. c'est possible car les listes sont ordonnés\n",
    "                ## cela permet devité que le nom de quelqu'un se connecte au mot de passe de quelqun\n",
    "                    if pass_word[rang] == mot_de_pass:\n",
    "                        print(\"Vous êtes connecté !\")\n",
    "                        print(\"\\n\")\n",
    "                        # Interface après connexion\n",
    "                        print(\"Explorer notre interface ci-dessous \\n IMPORT \\t EXPORT \\t INTERNATIONAL \\t LES DONNEES\")\n",
    "                        break\n",
    "                    else:\n",
    "                        print(\"Le nom d'utilisateur et le mot de passe ne correspondent pas.\")\n",
    "                elif nom_utilisateur in utilisateur and mot_de_pass not in pass_word:\n",
    "                    tentative -= 1\n",
    "                    print(f\"Le mot de passe entré ne correspond pas à votre compte existant.\\nIl vous reste {tentative} essais.\")\n",
    "                    if tentative == 0:\n",
    "                        print(\"Échec de la connexion : compte suspendu\")\n",
    "                        break\n",
    "                else:\n",
    "                    print(\"\\n\")\n",
    "                    print(\"Le nom d'utilisateur ou le mot de passe est incorrect.\\nVeuillez entrer des informations valides.\\nIl vous reste {tentative} essais.\")\n",
    "                    tentative -= 1\n",
    "                    if tentative == 0:\n",
    "                        break\n",
    "            break\n",
    "         # creer compte pour les nouveau utilisateur\n",
    "        elif choix == 2:\n",
    "            nouveau_utilisateur = input(\"Créer un nom d'utilisateur : \")\n",
    "            # verification si le nouveau nom ,'est pas deja un compte de quelqu'un\n",
    "            if nouveau_utilisateur in utilisateur:\n",
    "                print('ce nom existe deja , ajoutez des caracteres pour etre unique, merci!')\n",
    "                # retour sur la question pour que un nouveau nom valide soit entré\n",
    "                nouveau_utilisateur = input(\"Créer un nom d'utilisateur : \")\n",
    "# ATTENTION c'est ici j'appel ma fonction mode_passe()\n",
    "            print(\"\\t\")\n",
    "            mot_pass = mot_de_passe()\n",
    "        # ajout des nouveaux a la liste existantes des utilisateurs\n",
    "            utilisateur.append(nouveau_utilisateur)\n",
    "            pass_word.append(mot_pass)\n",
    "            break\n",
    "            print(\"Compte utilisateur créé avec succès.\")\n",
    "    #pas interesser\n",
    "        elif choix == 0:\n",
    "            print(\"Bonne journée.\")\n",
    "            break\n",
    "        else:\n",
    "            print(\"vous avez entrez un chifre qui n'est pas dans la grille \")\n",
    "            break\n"
   ]
  },
  {
   "cell_type": "markdown",
   "id": "3e1adc2e",
   "metadata": {},
   "source": [
    "### EXECUTION DU PROGRAMME"
   ]
  },
  {
   "cell_type": "code",
   "execution_count": 8,
   "id": "fd2e048a",
   "metadata": {},
   "outputs": [
    {
     "name": "stdout",
     "output_type": "stream",
     "text": [
      "vous etes sur le sites d'une grande base de données\n",
      "connectez-vous ou creer un compte pour avoir acces\n",
      "      ~~~ici c'est la maison de la donnée~~\n",
      "BIENVENUE SUR LA BANQUE DE DONNÉES\n",
      "1 - Se connecter\n",
      "2 - Créer un compte\n",
      "0 - Quitter\n",
      "~~~~~~~~~~~~~~~~~~~~~~~~~~~~~~~~~~~~~~~~~~~~~~~~~~~~~~\n",
      "Entrez 1 pour se connecter, 2 pour créer un compte ou 0 pour quitter : 0\n",
      "Bonne journée.\n"
     ]
    }
   ],
   "source": [
    "print(\"vous etes sur le sites d'une grande base de données\\nconnectez-vous ou creer un compte pour avoir acces\\n      ~~~ici c'est la maison de la donnée~~\")\n",
    "identifiez_vous()"
   ]
  },
  {
   "cell_type": "markdown",
   "id": "ea9a2597",
   "metadata": {},
   "source": [
    "# NB"
   ]
  },
  {
   "cell_type": "markdown",
   "id": "01e44a48",
   "metadata": {},
   "source": [
    "__je n'arrive pas a faire une recursion sur les listes pour que les nouveaux utilisateurs  qui viennent de creer des comptes avec l'option_2 puisse maintenant se connecter avec l'option_1. \n",
    "apres append, normalement ca devais marcher__"
   ]
  },
  {
   "cell_type": "markdown",
   "id": "a6b52a37",
   "metadata": {},
   "source": [
    "j'apprends les code python sur __https://www.python.org__ . c'est super"
   ]
  },
  {
   "cell_type": "code",
   "execution_count": null,
   "id": "40f23785",
   "metadata": {},
   "outputs": [],
   "source": []
  }
 ],
 "metadata": {
  "kernelspec": {
   "display_name": "Python 3 (ipykernel)",
   "language": "python",
   "name": "python3"
  },
  "language_info": {
   "codemirror_mode": {
    "name": "ipython",
    "version": 3
   },
   "file_extension": ".py",
   "mimetype": "text/x-python",
   "name": "python",
   "nbconvert_exporter": "python",
   "pygments_lexer": "ipython3",
   "version": "3.10.9"
  }
 },
 "nbformat": 4,
 "nbformat_minor": 5
}
