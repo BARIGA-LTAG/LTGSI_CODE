{
 "cells": [
  {
   "cell_type": "markdown",
   "id": "66ce65c0",
   "metadata": {},
   "source": [
    "Analyseur de texte : Écrivez un programme qui analyse un fichier texte et compte le nombre de mots, de phrases et de paragraphes qu'il contient. Vous pouvez également ajouter des fonctionnalités telles que le calcul de la fréquence d'apparition des mots ou la recherche de mots clés spécifiques."
   ]
  },
  {
   "cell_type": "code",
   "execution_count": null,
   "id": "72c75f6d",
   "metadata": {},
   "outputs": [],
   "source": []
  },
  {
   "cell_type": "code",
   "execution_count": 72,
   "id": "ae0ea362",
   "metadata": {},
   "outputs": [
    {
     "name": "stdout",
     "output_type": "stream",
     "text": [
      "['Géomatique : définition de la géomatique\\n', 'La géomatique est la combinaison syntaxique de deux mots : Géographie et Informatique.\\n', '\\n', 'Le mot géomatique a été déterminé pour regrouper de façon cohérente l’ensemble des connaissances et technologies nécessaires à la production et au traitement des données numériques décrivant le territoire, ses ressources ou tout autre objet ou phénomène ayant une position géographique.\\n', '\\n', 'La géomatique est un domaine qui fait appel aux sciences, aux technologies de mesure de la terre ainsi qu’aux technologies de l’information pour faciliter l’acquisition, le traitement et la diffusion des données sur le territoire (aussi appelées \"données spatiales \", \"données géospatiales\" ou \" données géographiques\").\\n', '\\n', 'La géomatique est étroitement liée à l’information géographique qui est la représentation d’un objet ou d’un phénomène localisé dans l’espace.\\n', 'Ainsi, la géomatique regroupe l’ensemble des outils et méthodes permettant de représenter, d’analyser et d’intégrer des données géographiques.\\n', 'Géomatique : origine de la géomatique\\n', 'La géomatique vient de \"Géo\", qui veut dire Terre, et \"matique\" vient de ’informatique’, soit le traitement automatique de l’information géographique. La géographie a, de tout temps, visé à expliquer les traces que les hommes laissent sur leur planète : frontières, aménagements, modifications des espaces naturels … La géographie a créé des systèmes de repérages qui permettent d’identifier les points sur la Terre et les relations entre ces points. La géomatique dérive de la géographie.\\n', 'Géomatique : les usages de la géomatique\\n', \"Historiquement, les techniques géographiques sont liées aux activités militaires (levés de fortifications ...). La photographie aérienne a beaucoup participé à la multiplication des usages de la géomatique depuis l'agriculture jusqu'à l'urbanisme. Elle a permis d'élaborer de nombreuses bases de données. L'IGN (Institut Géographique National) produit des bases recensant énormément d'informations géographiques. A l'échelle locale, ces bases peuvent concerner le cadastre, l'urbanisme, les réseaux, les espaces verts, les cimetières, le patrimoine …\"]\n",
      "\n",
      "\n",
      "Ce texte contient 13 paragraphe(s)\n",
      "\n",
      "\n",
      "Ce paragraphe contient : 6 mot(s)\n",
      "Ce paragraphe contient : 13 mot(s)\n",
      "Ce paragraphe contient : 0 mot(s)\n",
      "Ce paragraphe contient : 41 mot(s)\n",
      "Ce paragraphe contient : 0 mot(s)\n",
      "Ce paragraphe contient : 46 mot(s)\n",
      "Ce paragraphe contient : 0 mot(s)\n",
      "Ce paragraphe contient : 20 mot(s)\n",
      "Ce paragraphe contient : 18 mot(s)\n",
      "Ce paragraphe contient : 6 mot(s)\n",
      "Ce paragraphe contient : 75 mot(s)\n",
      "Ce paragraphe contient : 7 mot(s)\n",
      "Ce paragraphe contient : 71 mot(s)\n",
      "\n",
      "\n",
      "Ce texte contient 28 phrase(s) au total\n",
      "\n",
      "\n",
      "Ce texte contient 303 mot(s) au total\n",
      "entrez le mot recherché: les\n",
      "les\n",
      "4\n"
     ]
    }
   ],
   "source": [
    "def Analyseurdetexte(txt):\n",
    "    texte = open(txt, 'r', encoding='utf-8')\n",
    "    lecture = texte.readlines()\n",
    "    print(lecture)\n",
    "    print('\\n')\n",
    "    print(f\"Ce texte contient {len(lecture)} paragraphe(s)\")\n",
    "    texte.close()\n",
    "    print('\\n')\n",
    "    total_phrase = 0  # Initialisation de la variable total_phrase\n",
    "    total_mots=0\n",
    "    for paragraphe in lecture:\n",
    "        phrases = paragraphe.split('.')  # Supposons que les phrases sont séparées par des points ('.')\n",
    "        total_phrase += len(phrases)  # Ajout du nombre de phrases dans chaque paragraphe\n",
    "        mot = paragraphe.split()\n",
    "        mots = len(mot)\n",
    "        print(f\"Ce paragraphe contient : {mots} mot(s)\")\n",
    "        total_mots+=mots\n",
    "    print('\\n')\n",
    "    print(f\"Ce texte contient {total_phrase} phrase(s) au total\")\n",
    "    print('\\n')\n",
    "    print(f\"Ce texte contient {total_mots} mot(s) au total\")\n",
    "    cherchermot=input('entrez  le mot recherché: ')\n",
    "    if cherchermot in mot:\n",
    "        print(cherchermot)\n",
    "        print(mot.count(cherchermot))\n",
    "    else:\n",
    "        print(cherchermot, \"n'exixte pas dans ce fichier\")\n",
    "        print(mot)\n",
    "\n",
    "Analyseurdetexte('dcc.txt')\n"
   ]
  },
  {
   "cell_type": "code",
   "execution_count": 85,
   "id": "796a7bff",
   "metadata": {},
   "outputs": [
    {
     "name": "stdout",
     "output_type": "stream",
     "text": [
      "['Géomatique : définition de la géomatique\\n', 'La géomatique est la combinaison syntaxique de deux mots : Géographie et Informatique.\\n', '\\n', 'Le mot géomatique a été déterminé pour regrouper de façon cohérente l’ensemble des connaissances et technologies nécessaires à la production et au traitement des données numériques décrivant le territoire, ses ressources ou tout autre objet ou phénomène ayant une position géographique.\\n', '\\n', 'La géomatique est un domaine qui fait appel aux sciences, aux technologies de mesure de la terre ainsi qu’aux technologies de l’information pour faciliter l’acquisition, le traitement et la diffusion des données sur le territoire (aussi appelées \"données spatiales \", \"données géospatiales\" ou \" données géographiques\").\\n', '\\n', 'La géomatique est étroitement liée à l’information géographique qui est la représentation d’un objet ou d’un phénomène localisé dans l’espace.\\n', 'Ainsi, la géomatique regroupe l’ensemble des outils et méthodes permettant de représenter, d’analyser et d’intégrer des données géographiques.\\n', 'Géomatique : origine de la géomatique\\n', 'La géomatique vient de \"Géo\", qui veut dire Terre, et \"matique\" vient de ’informatique’, soit le traitement automatique de l’information géographique. La géographie a, de tout temps, visé à expliquer les traces que les hommes laissent sur leur planète : frontières, aménagements, modifications des espaces naturels … La géographie a créé des systèmes de repérages qui permettent d’identifier les points sur la Terre et les relations entre ces points. La géomatique dérive de la géographie.\\n', 'Géomatique : les usages de la géomatique\\n', \"Historiquement, les techniques géographiques sont liées aux activités militaires (levés de fortifications ...). La photographie aérienne a beaucoup participé à la multiplication des usages de la géomatique depuis l'agriculture jusqu'à l'urbanisme. Elle a permis d'élaborer de nombreuses bases de données. L'IGN (Institut Géographique National) produit des bases recensant énormément d'informations géographiques. A l'échelle locale, ces bases peuvent concerner le cadastre, l'urbanisme, les réseaux, les espaces verts, les cimetières, le patrimoine …\"]\n",
      "\n",
      "\n",
      "Ce texte contient 13 paragraphe(s)\n",
      "\n",
      "\n",
      "Ce paragraphe contient : 6 mot(s)\n",
      "Ce paragraphe contient : 13 mot(s)\n",
      "Ce paragraphe contient : 0 mot(s)\n",
      "Ce paragraphe contient : 41 mot(s)\n",
      "Ce paragraphe contient : 0 mot(s)\n",
      "Ce paragraphe contient : 46 mot(s)\n",
      "Ce paragraphe contient : 0 mot(s)\n",
      "Ce paragraphe contient : 20 mot(s)\n",
      "Ce paragraphe contient : 18 mot(s)\n",
      "Ce paragraphe contient : 6 mot(s)\n",
      "Ce paragraphe contient : 75 mot(s)\n",
      "Ce paragraphe contient : 7 mot(s)\n",
      "Ce paragraphe contient : 71 mot(s)\n",
      "\n",
      "\n",
      "Ce texte contient 28 phrase(s) au total\n",
      "\n",
      "\n",
      "Ce texte contient 303 mot(s) au total\n",
      "\n",
      "\n",
      "Entrez le mot recherché : Géomatique\n",
      "Géomatique existe et aparait 3 fois dans le texte\n"
     ]
    }
   ],
   "source": [
    "def Analyseurdetexte(txt):\n",
    "    texte = open(txt, 'r', encoding='utf-8')\n",
    "    lecture = texte.readlines()\n",
    "    print(lecture)\n",
    "    print('\\n')\n",
    "    print(f\"Ce texte contient {len(lecture)} paragraphe(s)\")\n",
    "    texte.close()\n",
    "    print('\\n')\n",
    "    total_phrase = 0  # Initialisation de la variable total_phrase\n",
    "    total_mots = 0\n",
    "    mots_texte = []  # Liste pour stocker tous les mots du texte\n",
    "    \n",
    "    for paragraphe in lecture:\n",
    "        phrases = paragraphe.split('.')  # Supposons que les phrases sont séparées par des points ('.')\n",
    "        total_phrase += len(phrases)  # Ajout du nombre de phrases dans chaque paragraphe\n",
    "        mots = paragraphe.split()\n",
    "        total_mots += len(mots)\n",
    "        mots_texte.extend(mots)  # Ajout des mots du paragraphe à la liste mots_texte\n",
    "        print(f\"Ce paragraphe contient : {len(mots)} mot(s)\")\n",
    "\n",
    "    print('\\n')\n",
    "    print(f\"Ce texte contient {total_phrase} phrase(s) au total\")\n",
    "    print('\\n')\n",
    "    print(f\"Ce texte contient {total_mots} mot(s) au total\")\n",
    "    print('\\n')\n",
    "    cherchermot = input('Entrez le mot recherché : ')\n",
    "    if cherchermot.lower() in mots_texte:\n",
    "        print(f\"{cherchermot} existe et aparait {mots_texte.count(cherchermot)} fois dans le texte\")\n",
    "        #print(mots_texte.count(cherchermot))\n",
    "    else:\n",
    "        print(cherchermot, \"n'existe pas dans ce fichier\")\n",
    "        #print(mots_texte)\n",
    "Analyseurdetexte('dcc.txt')"
   ]
  },
  {
   "cell_type": "code",
   "execution_count": null,
   "id": "ace6a369",
   "metadata": {},
   "outputs": [],
   "source": []
  },
  {
   "cell_type": "code",
   "execution_count": null,
   "id": "74cfb523",
   "metadata": {},
   "outputs": [],
   "source": []
  }
 ],
 "metadata": {
  "kernelspec": {
   "display_name": "Python 3 (ipykernel)",
   "language": "python",
   "name": "python3"
  },
  "language_info": {
   "codemirror_mode": {
    "name": "ipython",
    "version": 3
   },
   "file_extension": ".py",
   "mimetype": "text/x-python",
   "name": "python",
   "nbconvert_exporter": "python",
   "pygments_lexer": "ipython3",
   "version": "3.10.9"
  }
 },
 "nbformat": 4,
 "nbformat_minor": 5
}
