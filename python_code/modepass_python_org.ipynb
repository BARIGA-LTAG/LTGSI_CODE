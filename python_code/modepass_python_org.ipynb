{
 "cells": [
  {
   "cell_type": "code",
   "execution_count": 2,
   "id": "fd8f291c",
   "metadata": {},
   "outputs": [
    {
     "name": "stdout",
     "output_type": "stream",
     "text": [
      "Please enter password: hkjkiuè-ç)('2lkjF\n",
      "The strength of password is strong.\n",
      "\n"
     ]
    }
   ],
   "source": [
    "def checkPassword(password):\n",
    "    upperChars, lowerChars, specialChars, digits, length = 0, 0, 0, 0, 0\n",
    "    length = len(password)\n",
    "\n",
    "    if (length < 6):\n",
    "        print(\"Password must be at least 6 characters long!\\n\")\n",
    "    else:\n",
    "        for i in range(0, length):\n",
    "            if (password[i].isupper()):\n",
    "                upperChars += 1\n",
    "            elif (password[i].islower()):\n",
    "                lowerChars += 1\n",
    "            elif (password[i].isdigit()):\n",
    "                digits += 1\n",
    "            else:\n",
    "                specialChars += 1\n",
    "\n",
    "    if (upperChars != 0 and lowerChars != 0 and digits != 0 and specialChars != 0):\n",
    "        if (length >= 10):\n",
    "            print(\"The strength of password is strong.\\n\")\n",
    "        else:\n",
    "            print(\"The strength of password is medium.\\n\")\n",
    "    else:\n",
    "        if (upperChars == 0):\n",
    "            print(\"Password must contain at least one uppercase character!\\n\")\n",
    "        if (lowerChars == 0):\n",
    "            print(\"Password must contain at least one lowercase character!\\n\")\n",
    "        if (specialChars == 0):\n",
    "            print(\"Password must contain at least one special character!\\n\")\n",
    "        if (digits == 0):\n",
    "            print(\"Password must contain at least one digit!\\n\")\n",
    "\n",
    "\n",
    "password = input(\"Please enter password: \")\n",
    "checkPassword(password)"
   ]
  },
  {
   "cell_type": "code",
   "execution_count": null,
   "id": "ab497533",
   "metadata": {},
   "outputs": [],
   "source": []
  },
  {
   "cell_type": "code",
   "execution_count": null,
   "id": "fd1ae556",
   "metadata": {},
   "outputs": [],
   "source": []
  },
  {
   "cell_type": "code",
   "execution_count": null,
   "id": "eb43a715",
   "metadata": {},
   "outputs": [],
   "source": []
  },
  {
   "cell_type": "code",
   "execution_count": null,
   "id": "da26d507",
   "metadata": {},
   "outputs": [],
   "source": []
  },
  {
   "cell_type": "code",
   "execution_count": null,
   "id": "5081f84c",
   "metadata": {},
   "outputs": [],
   "source": []
  },
  {
   "cell_type": "code",
   "execution_count": null,
   "id": "c714e58b",
   "metadata": {},
   "outputs": [],
   "source": []
  },
  {
   "cell_type": "code",
   "execution_count": null,
   "id": "42a3eee5",
   "metadata": {},
   "outputs": [],
   "source": []
  },
  {
   "cell_type": "code",
   "execution_count": null,
   "id": "e377f1df",
   "metadata": {},
   "outputs": [],
   "source": []
  },
  {
   "cell_type": "code",
   "execution_count": null,
   "id": "a58f36e1",
   "metadata": {},
   "outputs": [],
   "source": []
  },
  {
   "cell_type": "code",
   "execution_count": null,
   "id": "75718e0e",
   "metadata": {},
   "outputs": [],
   "source": []
  }
 ],
 "metadata": {
  "kernelspec": {
   "display_name": "Python 3 (ipykernel)",
   "language": "python",
   "name": "python3"
  },
  "language_info": {
   "codemirror_mode": {
    "name": "ipython",
    "version": 3
   },
   "file_extension": ".py",
   "mimetype": "text/x-python",
   "name": "python",
   "nbconvert_exporter": "python",
   "pygments_lexer": "ipython3",
   "version": "3.10.9"
  }
 },
 "nbformat": 4,
 "nbformat_minor": 5
}
