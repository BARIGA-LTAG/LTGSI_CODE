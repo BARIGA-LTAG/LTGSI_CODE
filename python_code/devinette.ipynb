{
 "cells": [
  {
   "cell_type": "markdown",
   "id": "186438e1",
   "metadata": {},
   "source": [
    "Jeu de devinettes : Implémentez un jeu de devinettes dans lequel l'ordinateur choisit un nombre aléatoire et l'utilisateur doit deviner ce nombre en fournissant des indices (plus grand, plus petit) jusqu'à ce qu'il trouve la bonne réponse."
   ]
  },
  {
   "cell_type": "code",
   "execution_count": 13,
   "id": "477f82d5",
   "metadata": {},
   "outputs": [
    {
     "name": "stdout",
     "output_type": "stream",
     "text": [
      "devinez le nombre choisie par le programe: r\n",
      "\n",
      "\n",
      "entrer un nombre entier\n",
      "devinez le nombre choisie par le programe: 6\n",
      "le nombre entré est inferieur au nombre choisie par le programme!\n",
      "devinez le nombre choisie par le programe: 44\n",
      "le nombre entré est superieur au nombre choisie par le programme!\n",
      "devinez le nombre choisie par le programe: 33\n",
      "le nombre entré est inferieur au nombre choisie par le programme!\n",
      "devinez le nombre choisie par le programe: 34\n",
      "le nombre entré est inferieur au nombre choisie par le programme!\n",
      "devinez le nombre choisie par le programe: 35\n",
      "le nombre entré est inferieur au nombre choisie par le programme!\n",
      "devinez le nombre choisie par le programe: 36\n",
      "le nombre entré est inferieur au nombre choisie par le programme!\n",
      "devinez le nombre choisie par le programe: 37\n",
      "genial tu as deviné\n"
     ]
    }
   ],
   "source": [
    "def jeu_devinettes():\n",
    "    import random\n",
    "    nomb_aleatoire=random.randint(1,100)\n",
    "    while True:\n",
    "        try:\n",
    "            devine_nombre=int(input(\"devinez le nombre choisie par le programe: \"))\n",
    "            if nomb_aleatoire==devine_nombre:\n",
    "                print(\"genial tu as deviné\")\n",
    "                break\n",
    "            else:\n",
    "                if nomb_aleatoire<devine_nombre:\n",
    "                    print(\"le nombre entré est superieur au nombre choisie par le programme!\")\n",
    "                else:\n",
    "                    print(\"le nombre entré est inferieur au nombre choisie par le programme!\")\n",
    "        except ValueError:\n",
    "            print('\\n')\n",
    "            print(\"entrer un nombre entier\")\n",
    "                \n",
    "jeu_devinettes()"
   ]
  },
  {
   "cell_type": "code",
   "execution_count": null,
   "id": "683bef24",
   "metadata": {},
   "outputs": [],
   "source": [
    "#### Fonction principale du jeu de devinettes\n",
    "def jeu_de_devinettes():\n",
    "    import random\n",
    "    nombre_choisi = random.randint(1, 100)\n",
    "    print(\"Bienvenue dans le jeu de devinettes !\")\n",
    "    print(\"Je pense à un nombre entre 1 et 100.\")\n",
    "\n",
    "    devine = False\n",
    "    while not devine:\n",
    "        try:\n",
    "            proposition = int(input(\"Devinez le nombre : \"))\n",
    "            if proposition < nombre_choisi:\n",
    "                print(\"Le nombre que vous avez deviné est trop petit !\")\n",
    "            elif proposition > nombre_choisi:\n",
    "                print(\"Le nombre que vous avez deviné est trop grand !\")\n",
    "            else:\n",
    "                devine = True\n",
    "        except ValueError:\n",
    "            print(\"Veuillez entrer un nombre valide.\")\n",
    "\n",
    "    print(\"Félicitations ! Vous avez deviné le nombre correctement.\")\n",
    "\n",
    "# Appel de la fonction principale\n",
    "jeu_de_devinettes()\n"
   ]
  },
  {
   "cell_type": "code",
   "execution_count": null,
   "id": "62b3e85d",
   "metadata": {},
   "outputs": [],
   "source": []
  }
 ],
 "metadata": {
  "kernelspec": {
   "display_name": "Python 3 (ipykernel)",
   "language": "python",
   "name": "python3"
  },
  "language_info": {
   "codemirror_mode": {
    "name": "ipython",
    "version": 3
   },
   "file_extension": ".py",
   "mimetype": "text/x-python",
   "name": "python",
   "nbconvert_exporter": "python",
   "pygments_lexer": "ipython3",
   "version": "3.10.9"
  }
 },
 "nbformat": 4,
 "nbformat_minor": 5
}
