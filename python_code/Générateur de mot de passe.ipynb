{
 "cells": [
  {
   "cell_type": "markdown",
   "id": "ec50f692",
   "metadata": {},
   "source": [
    "Générateur de mot de passe : Créez un générateur de mot de passe qui génère un mot de passe aléatoire avec une longueur spécifiée par l'utilisateur. Le mot de passe devrait contenir une combinaison de lettres majuscules, de lettres minuscules, de chiffres et de caractères spéciaux."
   ]
  },
  {
   "cell_type": "code",
   "execution_count": 11,
   "id": "0639899c",
   "metadata": {},
   "outputs": [
    {
     "name": "stdout",
     "output_type": "stream",
     "text": [
      ": &&éé\"\"''\n",
      "Mot de passe invalide\n"
     ]
    }
   ],
   "source": [
    "motdepass = input(': ')\n",
    "if len(motdepass) == 8:\n",
    "    if any(char.islower() for char in motdepass) and \\\n",
    "       any(char.isupper() for char in motdepass) and \\\n",
    "       any(char.isascii() for char in motdepass) and \\\n",
    "       any(char.isnumeric() for char in motdepass):\n",
    "        print('Mot de passe valide')\n",
    "    else:\n",
    "        print('Mot de passe invalide')\n",
    "else:\n",
    "    print(\"Le mot de passe doit contenir 8 caractères\")\n"
   ]
  },
  {
   "cell_type": "code",
   "execution_count": 22,
   "id": "63ebc02b",
   "metadata": {},
   "outputs": [
    {
     "name": "stdout",
     "output_type": "stream",
     "text": [
      "longueur du mot de passe: 9\n",
      "4'e£OOC8o\n"
     ]
    }
   ],
   "source": [
    "import random\n",
    "def generateur_motdepass():\n",
    "    try:\n",
    "        longueur=int(input('longueur du mot de passe: '))\n",
    "        char=\"abcdefghijklmnopqrstu§/&+£µ¨?.%:;,'(-è@^]}vwxyzABCDEFGHIJKLMNOPQRSTUVWXYZ1234567890\"\n",
    "        password=''\n",
    "        if 7<longueur<=10:\n",
    "            for _ in range(longueur):\n",
    "                \n",
    "                password+=random.choice(char)\n",
    "            print(password)\n",
    "        else:\n",
    "            print(\"le mot de pass doit contenir 8 caractere\")\n",
    "    except ValueError:\n",
    "        print(\"entrer un chifre\")\n",
    "generateur_motdepass()"
   ]
  },
  {
   "cell_type": "code",
   "execution_count": null,
   "id": "4a100dbc",
   "metadata": {},
   "outputs": [],
   "source": []
  },
  {
   "cell_type": "code",
   "execution_count": 23,
   "id": "9f58f7d3",
   "metadata": {},
   "outputs": [
    {
     "name": "stdout",
     "output_type": "stream",
     "text": [
      "Longueur du mot de passe : 9\n",
      "5FXH0jAAB\n"
     ]
    }
   ],
   "source": [
    "\n",
    "\n",
    "def generateur_motdepass():\n",
    "    longueur = int(input('Longueur du mot de passe : '))\n",
    "    caracteres = \"abcdefghijklmnopqrstuvwxyzABCDEFGHIJKLMNOPQRSTUVWXYZ1234567890\"\n",
    "    password = \"\"\n",
    "    import random\n",
    "    if 7 < longueur <= 10:\n",
    "        for _ in range(longueur):\n",
    "            password += random.choice(caracteres)\n",
    "        print(password)\n",
    "    else:\n",
    "        print(\"Le mot de passe doit contenir entre 8 et 10 caractères.\")\n",
    "\n",
    "generateur_motdepass()\n"
   ]
  },
  {
   "cell_type": "code",
   "execution_count": 19,
   "id": "f451b0d1",
   "metadata": {},
   "outputs": [
    {
     "name": "stdout",
     "output_type": "stream",
     "text": [
      "Longueur du mot de passe : 8\n",
      "Mot de passe valide : zlqtclBX\n"
     ]
    }
   ],
   "source": [
    "import random\n",
    "\n",
    "def generateur_motdepass(longueur):\n",
    "    caracteres = 'abcdefghijklmnopqrstuvwxyzABCDEFGHIJKLMNOPQRSTUVWXYZ1234567890'\n",
    "    motdepass = ''\n",
    "    \n",
    "    if longueur > 0:\n",
    "        for _ in range(longueur):\n",
    "            motdepass += random.choice(caracteres)\n",
    "        \n",
    "        print('Mot de passe valide :', motdepass)\n",
    "    else:\n",
    "        print('La longueur du mot de passe doit être supérieure à zéro.')\n",
    "\n"
   ]
  },
  {
   "cell_type": "markdown",
   "id": "51a354aa",
   "metadata": {},
   "source": []
  }
 ],
 "metadata": {
  "kernelspec": {
   "display_name": "Python 3 (ipykernel)",
   "language": "python",
   "name": "python3"
  },
  "language_info": {
   "codemirror_mode": {
    "name": "ipython",
    "version": 3
   },
   "file_extension": ".py",
   "mimetype": "text/x-python",
   "name": "python",
   "nbconvert_exporter": "python",
   "pygments_lexer": "ipython3",
   "version": "3.10.9"
  }
 },
 "nbformat": 4,
 "nbformat_minor": 5
}
