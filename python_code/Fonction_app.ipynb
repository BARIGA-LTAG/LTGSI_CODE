{
 "cells": [
  {
   "cell_type": "code",
   "execution_count": null,
   "id": "86f183cc",
   "metadata": {},
   "outputs": [],
   "source": [
    "# variables\n",
    "batiment_ad\n",
    "salles_cours\n",
    "restaurant\n",
    "hebergement\n",
    "routes\n",
    "point_eau\n",
    "poubelle\n",
    "parking\n",
    "terrains\n",
    "plan_eau\n",
    "point_sotral\n",
    "reposoir\n",
    "lampadaire\n",
    "marcher\n",
    "point_wifi\n",
    "toillete\n",
    "zonages\n",
    "\n",
    "#LES FONCTIONS\n",
    "def recherche ():\n",
    "def navigation ():\n",
    "def favorie ():\n",
    "def calendrier():\n",
    "def info_suplement ():\n"
   ]
  }
 ],
 "metadata": {
  "kernelspec": {
   "display_name": "Python 3 (ipykernel)",
   "language": "python",
   "name": "python3"
  },
  "language_info": {
   "codemirror_mode": {
    "name": "ipython",
    "version": 3
   },
   "file_extension": ".py",
   "mimetype": "text/x-python",
   "name": "python",
   "nbconvert_exporter": "python",
   "pygments_lexer": "ipython3",
   "version": "3.10.9"
  }
 },
 "nbformat": 4,
 "nbformat_minor": 5
}
