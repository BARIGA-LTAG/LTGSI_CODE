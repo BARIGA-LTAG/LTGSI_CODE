{
 "cells": [
  {
   "cell_type": "code",
   "execution_count": null,
   "id": "8e266904",
   "metadata": {},
   "outputs": [],
   "source": []
  },
  {
   "cell_type": "markdown",
   "id": "a598e7fd",
   "metadata": {},
   "source": [
    "# c est le code principal"
   ]
  },
  {
   "cell_type": "code",
   "execution_count": 3,
   "id": "fdaf9837",
   "metadata": {},
   "outputs": [],
   "source": [
    "\n",
    "def gagnez_toujours(gain_boule= 100):\n",
    "    import random\n",
    "    \"\"\" cette fonction  se comporte comme un jeux de harzard \n",
    "    par defaut elle a un argument . l'utilisateur lance la fonction et suis les instruction\"\"\"\n",
    "# Initialisation des boules\n",
    "    boules = list(range(1, 46))\n",
    "    print(boules)\n",
    "    print('\\t')\n",
    "\n",
    "    # Les boules de mise\n",
    "    mises = []\n",
    "    while True:\n",
    "        try:\n",
    "            num =int(input('Entrez votre numéro de chance compris entre 1 et 45 : '))\n",
    "            if num >= 1 and num <=45:\n",
    "                if num in mises:\n",
    "                    print ('vous avez deja misé ',num)\n",
    "                else:\n",
    "                    mises.append(num)\n",
    "                    if len(mises)==3:\n",
    "                        break\n",
    "            else:\n",
    "                print('vous devez entrer un nombre compris entre 0 et 46')\n",
    "        except ValueError:\n",
    "            print('vous avez entrez une chaine de caractere,Veuillez entrer un nombre valide.')\n",
    "\n",
    "            \n",
    "            \n",
    "    montant_mise = int(input(\"Entrez le montant de la mise : \"))\n",
    "    print(f\"\\n Vous avez misé : {mises} au montant de {montant_mise}\")\n",
    "    print('\\t')\n",
    "    # Mélange des boules\n",
    "    random.shuffle(boules)\n",
    "\n",
    "    # Choix automatique des boules\n",
    "    boulesgagnantes = random.sample(boules, 3)\n",
    "    print(\"Les trois boules gagnantes sont :\", boulesgagnantes)\n",
    "    print('\\t')\n",
    "\n",
    "    # Comparaison\n",
    "    boolen = mises == boulesgagnantes\n",
    "    print(boolen)\n",
    "    # Vérification si certaines boules misés sont gagnantes\n",
    "    boule_heureux=[]\n",
    "    for bul in mises:\n",
    "        if bul in boulesgagnantes:\n",
    "            print('bravo! les boules',bul, 'sont gagnantes\\n vous serez remuneré')\n",
    "            boule_heureux.append(bul)\n",
    "\n",
    "#initialement, la valeur d'une seule boule est 2000F\n",
    "## gain_boule= 20000\n",
    "#cette valeur est initialisez à \"gain_boule\" fois n etant le nombre de boule_gagnant(nbr_numero_gagnant)\n",
    "\n",
    "\n",
    "#longueur ou nombre des boule gagnante\n",
    "    nbr_numero_gagnant=len(boule_heureux)\n",
    "# condition de payement\n",
    "# le montant de mise est divise en trois pour avoir le montant par boule\n",
    "    if nbr_numero_gagnant==1:\n",
    "        montant_gagnant=gain_boule*(montant_mise/3)\n",
    "        print(\"felitation tentez de decrocher le jackpot en misant plus\\n vous avez gagnez\",montant_gagnant,'F cfa')\n",
    "    elif nbr_numero_gagnant==2:\n",
    "        montant_gagnant=(gain_boule*2)*(montant_mise/3)*nbr_numero_gagnant\n",
    "        print(\"felitation vous avez decroché deux boules vous etes heureux\\n profitez-en vous avez gagnez \",montant_gagnant,'F cfa')\n",
    "    elif nbr_numero_gagnant==3:\n",
    "        montant_gagnant=(gain_boule*3)*(montant_mise/3)*nbr_numero_gagnant\n",
    "        print(\"felitation! la chance est pour vous! INCROYABLE \\n vous avez gagnez \",montant_gagnant,'F cfa')\n",
    "    else:\n",
    "        print(\"domage! vous etes perdans cette fois-ci. misez encore c'est en perseverant qu'on gagne\")\n",
    "    #occasion de jouer encore\n",
    "    jouer_encore = input(\"Voulez-vous miser à nouveau ? (oui/non) : \")\n",
    "    if jouer_encore.lower() == \"oui\" or jouer_encore.upper() == \"OUI\":\n",
    "        gagnez_toujours(gain_boule=100)"
   ]
  },
  {
   "cell_type": "markdown",
   "id": "b1130e77",
   "metadata": {},
   "source": [
    "# ## pour aller au web"
   ]
  },
  {
   "cell_type": "code",
   "execution_count": 1,
   "id": "c94b663d",
   "metadata": {},
   "outputs": [],
   "source": [
    "from flask import Flask, render_template, request\n"
   ]
  },
  {
   "cell_type": "code",
   "execution_count": null,
   "id": "b8b2b55a",
   "metadata": {},
   "outputs": [],
   "source": []
  }
 ],
 "metadata": {
  "kernelspec": {
   "display_name": "Python 3 (ipykernel)",
   "language": "python",
   "name": "python3"
  },
  "language_info": {
   "codemirror_mode": {
    "name": "ipython",
    "version": 3
   },
   "file_extension": ".py",
   "mimetype": "text/x-python",
   "name": "python",
   "nbconvert_exporter": "python",
   "pygments_lexer": "ipython3",
   "version": "3.10.9"
  }
 },
 "nbformat": 4,
 "nbformat_minor": 5
}
