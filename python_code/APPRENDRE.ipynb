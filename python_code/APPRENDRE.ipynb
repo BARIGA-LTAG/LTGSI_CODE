{
 "cells": [
  {
   "cell_type": "code",
   "execution_count": 15,
   "id": "fd9477da",
   "metadata": {},
   "outputs": [
    {
     "name": "stdout",
     "output_type": "stream",
     "text": [
      "Entrer le nom de la personne (ou fin pout quiter) 1: fin\n"
     ]
    }
   ],
   "source": [
    "def affiche_info_personne(num_perso):\n",
    "    num_perso += 1\n",
    "    while True:\n",
    "        try:\n",
    "            nom = input(\"Entrer le nom de la personne (ou fin pout quiter) \" + str(num_perso) + \": \")\n",
    "            if nom == 'fin':\n",
    "                break\n",
    "            age = input(\"Entrer l'âge de la personne \" + str(num_perso) + \": \")\n",
    "            if age.isdigit():\n",
    "                print(f\"{nom} est âgé de {age}\")\n",
    "                return affiche_info_personne(num_perso)\n",
    "        except:\n",
    "            pass\n",
    "affiche_info_personne(0)"
   ]
  },
  {
   "cell_type": "code",
   "execution_count": 16,
   "id": "fc3b6025",
   "metadata": {},
   "outputs": [],
   "source": [
    "def stock_nom_age(nom,age):\n",
    "    noms = []\n",
    "    ages = []\n",
    "    \n",
    "    if age.isdigit():\n",
    "        noms.append(nom)\n",
    "        ages.append(int(age))\n",
    "    else:\n",
    "        print(\"L'âge doit être un nombre entier. Réessayez.\")\n",
    "\n",
    "    dictionnaire = dict(zip(noms, ages))\n",
    "    dico = {}\n",
    "\n",
    "    for i in range(len(noms)):\n",
    "        nom = noms[i]\n",
    "        age = ages[i]\n",
    "        dico[nom] = age\n",
    "    print(dico)\n",
    "\n",
    "    for nom, age in dictionnaire.items():\n",
    "        print(f\"{nom} est âgé de {age} ans.\")\n",
    "        if age < 18:\n",
    "            print(f\"{nom} est mineur\")\n",
    "        else:\n",
    "            print(f\"{nom} est majeur\")\n",
    "\n",
    "    return dictionnaire\n",
    "    return ages\n",
    "    return noms\n",
    "    \n"
   ]
  },
  {
   "cell_type": "code",
   "execution_count": 2,
   "id": "8e40875a",
   "metadata": {},
   "outputs": [
    {
     "name": "stdout",
     "output_type": "stream",
     "text": [
      "Entrer le nom de la personne (ou 'fin' pour quitter) 1: fin\n"
     ]
    }
   ],
   "source": [
    "def affiche_info_personne(num_perso):\n",
    "    num_perso += 1\n",
    "    nom = input(\"Entrer le nom de la personne (ou 'fin' pour quitter) \" + str(num_perso) + \": \")\n",
    "    if nom == 'fin':\n",
    "        return\n",
    "\n",
    "    age = input(\"Entrer l'âge de la personne \" + str(num_perso) + \": \")\n",
    "    if age.isdigit():\n",
    "        print(f\"{nom} est âgé de {age}\")\n",
    "        return affiche_info_personne(num_perso)\n",
    "    stock_nom_age(nom,age)\n",
    "    return \"Veuillez entrer un nombre pour l'âge.\"\n",
    "\n",
    "affiche_info_personne(0)\n"
   ]
  },
  {
   "cell_type": "code",
   "execution_count": 7,
   "id": "bbc1dd2d",
   "metadata": {},
   "outputs": [
    {
     "name": "stdout",
     "output_type": "stream",
     "text": [
      "Entrer le nom de la personne (ou 'fin' pour quitter) 1: gg\n",
      "Entrer l'âge de la personne 1: 66\n",
      "gg est âgé de 66\n",
      "Entrer le nom de la personne (ou 'fin' pour quitter) 2: kk\n",
      "Entrer l'âge de la personne 2: 99\n",
      "kk est âgé de 99\n",
      "Entrer le nom de la personne (ou 'fin' pour quitter) 3: fin\n"
     ]
    },
    {
     "ename": "NameError",
     "evalue": "name 'nom' is not defined",
     "output_type": "error",
     "traceback": [
      "\u001b[1;31m---------------------------------------------------------------------------\u001b[0m",
      "\u001b[1;31mNameError\u001b[0m                                 Traceback (most recent call last)",
      "Cell \u001b[1;32mIn[7], line 2\u001b[0m\n\u001b[0;32m      1\u001b[0m affiche_info_personne(\u001b[38;5;241m0\u001b[39m)\n\u001b[1;32m----> 2\u001b[0m stock_nom_age(\u001b[43mnom\u001b[49m,age)\n",
      "\u001b[1;31mNameError\u001b[0m: name 'nom' is not defined"
     ]
    }
   ],
   "source": [
    "affiche_info_personne(0)\n"
   ]
  },
  {
   "cell_type": "code",
   "execution_count": null,
   "id": "03aff961",
   "metadata": {},
   "outputs": [],
   "source": []
  },
  {
   "cell_type": "markdown",
   "id": "fb38afa6",
   "metadata": {},
   "source": [
    "# supercod"
   ]
  },
  {
   "cell_type": "code",
   "execution_count": 11,
   "id": "4b46dfc7",
   "metadata": {},
   "outputs": [
    {
     "name": "stdout",
     "output_type": "stream",
     "text": [
      "Entrer le nom (ou 'fin' pour quitter) : aba\n",
      "Entrer l'âge : 11\n",
      "Entrer le nom (ou 'fin' pour quitter) : ata\n",
      "Entrer l'âge : 33\n",
      "Entrer le nom (ou 'fin' pour quitter) : j\n",
      "Entrer l'âge : 99\n",
      "Entrer le nom (ou 'fin' pour quitter) : fin\n",
      "{'aba': 11}\n",
      "{'aba': 11, 'ata': 33}\n",
      "{'aba': 11, 'ata': 33, 'j': 99}\n",
      "aba est âgé de 11 ans.\n",
      "aba est mineur\n",
      "ata est âgé de 33 ans.\n",
      "ata est majeur\n",
      "j est âgé de 99 ans.\n",
      "j est majeur\n"
     ]
    },
    {
     "data": {
      "text/plain": [
       "{'aba': 11, 'ata': 33, 'j': 99}"
      ]
     },
     "execution_count": 11,
     "metadata": {},
     "output_type": "execute_result"
    }
   ],
   "source": [
    "def stock_nom_age():\n",
    "    noms = []\n",
    "    ages = []\n",
    "    \n",
    "    while True:\n",
    "        nom = input(\"Entrer le nom (ou 'fin' pour quitter) : \")\n",
    "        if nom == 'fin':\n",
    "            break\n",
    "        age = input(\"Entrer l'âge : \")\n",
    "        if age.isdigit():\n",
    "            noms.append(nom)\n",
    "            ages.append(int(age))\n",
    "        else:\n",
    "            print(\"L'âge doit être un nombre entier. Réessayez.\")\n",
    "\n",
    "    dictionnaire = dict(zip(noms, ages))\n",
    "    dico = {}\n",
    "\n",
    "    for i in range(len(noms)):\n",
    "        nom = noms[i]\n",
    "        age = ages[i]\n",
    "        dico[nom] = age\n",
    "    print(dico)\n",
    "\n",
    "    for nom, age in dictionnaire.items():\n",
    "        print(f\"{nom} est âgé de {age} ans.\")\n",
    "        if age < 18:\n",
    "            print(f\"{nom} est mineur\")\n",
    "        else:\n",
    "            print(f\"{nom} est majeur\")\n",
    "\n",
    "    return dictionnaire\n",
    "\n",
    "stock_nom_age()\n"
   ]
  },
  {
   "cell_type": "code",
   "execution_count": 17,
   "id": "1d7c4cfe",
   "metadata": {},
   "outputs": [
    {
     "name": "stdout",
     "output_type": "stream",
     "text": [
      "Entrer le nom de la personne (ou fin pour quitter) 1: q\n",
      "Entrer l'âge de la personne 1: 11\n",
      "{'q': 11}\n",
      "q est âgé de 11 ans.\n",
      "q est mineur\n",
      "la personne 1 s'appel q et à 11 ans\n",
      "Entrer le nom de la personne (ou fin pour quitter) 2: d\n",
      "Entrer l'âge de la personne 2: e\n",
      "Entrer le nom de la personne (ou fin pour quitter) 2: s\n",
      "Entrer l'âge de la personne 2: 34\n",
      "{'s': 34}\n",
      "s est âgé de 34 ans.\n",
      "s est majeur\n",
      "la personne 2 s'appel s et à 34 ans\n",
      "Entrer le nom de la personne (ou fin pour quitter) 3: fin\n"
     ]
    }
   ],
   "source": [
    "def affiche_info_personne(num_perso):\n",
    "    num_perso += 1\n",
    "    while True:\n",
    "        try:\n",
    "            nom = input(\"Entrer le nom de la personne (ou fin pour quitter) \" + str(num_perso) + \": \")\n",
    "            if nom == 'fin':\n",
    "                break\n",
    "            age = input(\"Entrer l'âge de la personne \" + str(num_perso) + \": \")\n",
    "            if age.isdigit():\n",
    "                stock_nom_age(nom, age)\n",
    "                print(f\"la personne {num_perso} s'appel {nom} et à {age} ans\")\n",
    "                #return stock_nom_age(nom, age)  \n",
    "                return affiche_info_personne(num_perso)\n",
    "        except:\n",
    "            pass\n",
    "\n",
    "affiche_info_personne(0)\n"
   ]
  },
  {
   "cell_type": "code",
   "execution_count": 37,
   "id": "7a253929",
   "metadata": {},
   "outputs": [
    {
     "name": "stdout",
     "output_type": "stream",
     "text": [
      "1 merde\n",
      "2\n",
      "3 merde\n",
      "4\n",
      "5 merde\n",
      "6\n",
      "7 merde\n",
      "8\n",
      "9 merde\n",
      "10\n",
      "11 merde\n",
      "12\n",
      "13 merde\n",
      "14\n"
     ]
    }
   ],
   "source": [
    "a=0\n",
    "while a < 15:\n",
    "    if a==0:\n",
    "        pass\n",
    "    else:\n",
    "        if a % 2==0:\n",
    "            print(a) \n",
    "        else:\n",
    "            print(str(a) +\" \"+\"merde\")  \n",
    "    a+=1"
   ]
  },
  {
   "cell_type": "code",
   "execution_count": 41,
   "id": "36765588",
   "metadata": {},
   "outputs": [
    {
     "name": "stdout",
     "output_type": "stream",
     "text": [
      "1 merde\n",
      "3 merde\n",
      "5 merde\n",
      "7 merde\n",
      "9 merde\n",
      "11 merde\n",
      "13 merde\n"
     ]
    }
   ],
   "source": [
    "a = 0\n",
    "while a < 15:\n",
    "    if a == 0:\n",
    "        pass\n",
    "    elif a % 2 == 0:\n",
    "        a += 1\n",
    "        continue\n",
    "    else:\n",
    "        print(str(a) + \" merde\")\n",
    "    a += 1\n"
   ]
  },
  {
   "cell_type": "code",
   "execution_count": 45,
   "id": "950f6015",
   "metadata": {},
   "outputs": [
    {
     "name": "stdout",
     "output_type": "stream",
     "text": [
      "0\n",
      "1\n",
      "3\n",
      "5\n",
      "7\n",
      "9\n",
      "11\n",
      "13\n"
     ]
    }
   ],
   "source": [
    "a = 0\n",
    "while a < 15:\n",
    "    if a == 0:\n",
    "        pass\n",
    "    elif a % 2 == 0:\n",
    "        a += 1\n",
    "        continue\n",
    "    print(str(a))\n",
    "    a += 1\n"
   ]
  },
  {
   "cell_type": "code",
   "execution_count": 46,
   "id": "977141ed",
   "metadata": {},
   "outputs": [
    {
     "name": "stdout",
     "output_type": "stream",
     "text": [
      "0\n",
      "1\n",
      "2\n",
      "3\n",
      "4\n",
      "5\n",
      "6\n",
      "7\n",
      "8\n",
      "9\n",
      "10\n",
      "11\n",
      "12\n",
      "13\n",
      "14\n"
     ]
    }
   ],
   "source": [
    "a = 0\n",
    "while a < 15:\n",
    "    if a == 0:\n",
    "        pass\n",
    "    elif a % 2 == 0:\n",
    "        print(a)\n",
    "        a += 1\n",
    "        continue\n",
    "    print(a)\n",
    "    a += 1\n"
   ]
  }
 ],
 "metadata": {
  "kernelspec": {
   "display_name": "Python 3 (ipykernel)",
   "language": "python",
   "name": "python3"
  },
  "language_info": {
   "codemirror_mode": {
    "name": "ipython",
    "version": 3
   },
   "file_extension": ".py",
   "mimetype": "text/x-python",
   "name": "python",
   "nbconvert_exporter": "python",
   "pygments_lexer": "ipython3",
   "version": "3.10.9"
  }
 },
 "nbformat": 4,
 "nbformat_minor": 5
}
