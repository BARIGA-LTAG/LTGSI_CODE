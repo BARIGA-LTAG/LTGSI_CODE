{
 "cells": [
  {
   "cell_type": "markdown",
   "id": "c8cda5d1",
   "metadata": {},
   "source": [
    "Calculatrice : Créez un programme qui agit comme une calculatrice. Il devrait permettre à l'utilisateur d'entrer deux nombres et d'effectuer des opérations de base telles que l'addition, la soustraction, la multiplication et la division."
   ]
  },
  {
   "cell_type": "code",
   "execution_count": 48,
   "id": "22322f8f",
   "metadata": {},
   "outputs": [],
   "source": [
    "def calculatrice():\n",
    "    nombre1=float(input('entre le premier nombre: '))\n",
    "    nombre2=float(input('entre le deuxieme nombre: '))\n",
    "    operation=['addition','soustraction','multiplication', 'division']\n",
    "    operer=input(\"quelle operation ?(addition','soustraction','multiplication', 'division): \")\n",
    "    for fonction in operation:\n",
    "        if operer==operation[0]:\n",
    "            return (nombre1+nombre2)\n",
    "        if operer==operation[1]:\n",
    "            return (nombre1-nombre2)\n",
    "        if operer==operation[2]:\n",
    "            return (nombre1*nombre2)\n",
    "        if operer==operation[3]:\n",
    "            return (nombre1/nombre2)\n",
    "        else:\n",
    "            print(\"ecrivez bien svp l'operation comme specifier. merci\")\n",
    "    calculer_encore=input('entre <<oui>> si vous voulez calculere encore: ')\n",
    "    if calculer_encore.lower()==oui:\n",
    "        return calculatrice()"
   ]
  },
  {
   "cell_type": "code",
   "execution_count": 49,
   "id": "e1bd0ea9",
   "metadata": {},
   "outputs": [
    {
     "name": "stdout",
     "output_type": "stream",
     "text": [
      "entre le premier nombre: 34\n",
      "entre le deuxieme nombre: 12\n",
      "quelle operation ?(addition','soustraction','multiplication', 'division): addition\n"
     ]
    },
    {
     "data": {
      "text/plain": [
       "46.0"
      ]
     },
     "execution_count": 49,
     "metadata": {},
     "output_type": "execute_result"
    }
   ],
   "source": [
    "calculatrice()"
   ]
  },
  {
   "cell_type": "code",
   "execution_count": 26,
   "id": "4700a85d",
   "metadata": {},
   "outputs": [
    {
     "name": "stdout",
     "output_type": "stream",
     "text": [
      "Entrez le premier nombre : 2\n",
      "Entrez le deuxième nombre : 6\n",
      "Quelle opération ? (addition, soustraction, multiplication, division) multiplication\n",
      "Le résultat est : 12.0\n",
      "Voulez-vous effectuer un nouveau calcul ? (oui/non) NON\n"
     ]
    }
   ],
   "source": [
    "def calculatrice():\n",
    "    while True:\n",
    "        nombre1 = float(input('Entrez le premier nombre : '))\n",
    "        nombre2 = float(input('Entrez le deuxième nombre : '))\n",
    "        operation = input(\"Quelle opération ? (addition, soustraction, multiplication, division) \")\n",
    "\n",
    "        if operation == 'addition':\n",
    "            resultat = nombre1 + nombre2\n",
    "        elif operation == 'soustraction':\n",
    "            resultat = nombre1 - nombre2\n",
    "        elif operation == 'multiplication':\n",
    "            resultat = nombre1 * nombre2\n",
    "        elif operation == 'division':\n",
    "            resultat = nombre1 / nombre2\n",
    "        else:\n",
    "            print(\"Écrivez correctement l'opération spécifiée. Merci.\")\n",
    "            continue\n",
    "\n",
    "        print(\"Le résultat est :\", resultat)\n",
    "\n",
    "        choix = input(\"Voulez-vous effectuer un nouveau calcul ? (oui/non) \")\n",
    "        if choix.lower() != 'oui':\n",
    "            break\n",
    "\n",
    "calculatrice()\n"
   ]
  },
  {
   "cell_type": "code",
   "execution_count": 40,
   "id": "5ed4fe06",
   "metadata": {},
   "outputs": [],
   "source": [
    "def calculatrice():\n",
    "    nombre1 = float(input('Entrez le premier nombre : '))\n",
    "    nombre2 = float(input('Entrez le deuxième nombre : '))\n",
    "    operation = ['addition', 'soustraction', 'multiplication', 'division']\n",
    "    operer = input(\"Quelle opération ? (addition, soustraction, multiplication, division) \")\n",
    "\n",
    "    if operer == operation[0]:\n",
    "        resultat = nombre1 + nombre2\n",
    "    elif operer == operation[1]:\n",
    "        resultat = nombre1 - nombre2\n",
    "    elif operer == operation[2]:\n",
    "        resultat = nombre1 * nombre2\n",
    "    elif operer == operation[3]:\n",
    "        resultat = nombre1 / nombre2\n",
    "    else:\n",
    "        print(\"Écrivez correctement l'opération spécifiée. Merci.\")\n",
    "        return calculatrice()\n",
    "    print(\"Le résultat est :\", resultat)\n",
    "\n",
    "    calculer_encore = input(\"Voulez-vous effectuer un nouveau calcul ? (oui/non) \")\n",
    "    if calculer_encore.lower() == 'oui':\n",
    "        calculatrice()\n",
    "\n",
    "#calculatrice()\n"
   ]
  },
  {
   "cell_type": "code",
   "execution_count": 41,
   "id": "442563ab",
   "metadata": {},
   "outputs": [
    {
     "name": "stdout",
     "output_type": "stream",
     "text": [
      "Entrez le premier nombre : 22\n",
      "Entrez le deuxième nombre : 22\n",
      "Quelle opération ? (addition, soustraction, multiplication, division) addition\n",
      "Le résultat est : 44.0\n",
      "Voulez-vous effectuer un nouveau calcul ? (oui/non) NON\n"
     ]
    }
   ],
   "source": [
    "calculatrice()"
   ]
  },
  {
   "cell_type": "code",
   "execution_count": null,
   "id": "5389e10f",
   "metadata": {},
   "outputs": [],
   "source": []
  },
  {
   "cell_type": "code",
   "execution_count": null,
   "id": "02da53e2",
   "metadata": {},
   "outputs": [],
   "source": []
  },
  {
   "cell_type": "code",
   "execution_count": null,
   "id": "d9cbd535",
   "metadata": {},
   "outputs": [],
   "source": []
  },
  {
   "cell_type": "code",
   "execution_count": null,
   "id": "793fe09c",
   "metadata": {},
   "outputs": [],
   "source": []
  }
 ],
 "metadata": {
  "kernelspec": {
   "display_name": "Python 3 (ipykernel)",
   "language": "python",
   "name": "python3"
  },
  "language_info": {
   "codemirror_mode": {
    "name": "ipython",
    "version": 3
   },
   "file_extension": ".py",
   "mimetype": "text/x-python",
   "name": "python",
   "nbconvert_exporter": "python",
   "pygments_lexer": "ipython3",
   "version": "3.10.9"
  }
 },
 "nbformat": 4,
 "nbformat_minor": 5
}
