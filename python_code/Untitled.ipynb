{
 "cells": [
  {
   "cell_type": "code",
   "execution_count": 7,
   "id": "37e37cf6",
   "metadata": {},
   "outputs": [
    {
     "name": "stdout",
     "output_type": "stream",
     "text": [
      "password: hjhjhTRTRg54-\n",
      "valide\n"
     ]
    }
   ],
   "source": [
    "mot_de_pass=input(\"password: \")\n",
    "if len(mot_de_pass)>=8:\n",
    "    if any(mo.islower() for mo in mot_de_pass )and\\\n",
    "        any(mo.isupper() for mo in mot_de_pass )and\\\n",
    "        any(mo.isnumeric for mo in mot_de_pass ):\n",
    "        print(\"valide\")\n",
    "    else:\n",
    "        print(\"invalide\")\n",
    "else:\n",
    "    print(\"entrer aumoins 8 caractere\")\n",
    "            \n",
    "        "
   ]
  },
  {
   "cell_type": "code",
   "execution_count": 9,
   "id": "9a0b1933",
   "metadata": {},
   "outputs": [
    {
     "name": "stdout",
     "output_type": "stream",
     "text": [
      "password: NKJJuioiopop89890\n",
      "invalide\n"
     ]
    }
   ],
   "source": [
    "import string\n",
    "\n",
    "mot_de_pass = input(\"password: \")\n",
    "\n",
    "if len(mot_de_pass) >= 8:\n",
    "    if any(mo.islower() for mo in mot_de_pass) and \\\n",
    "       any(mo.isupper() for mo in mot_de_pass) and \\\n",
    "       any(mo.isnumeric() for mo in mot_de_pass) and \\\n",
    "       any(mo in string.punctuation for mo in mot_de_pass):\n",
    "        print(\"valide\")\n",
    "    else:\n",
    "        print(\"invalide\")\n",
    "else:\n",
    "    print(\"entrer au moins 8 caractères\")\n"
   ]
  },
  {
   "cell_type": "code",
   "execution_count": null,
   "id": "36bfa469",
   "metadata": {},
   "outputs": [],
   "source": []
  },
  {
   "cell_type": "code",
   "execution_count": null,
   "id": "f43b4f46",
   "metadata": {},
   "outputs": [],
   "source": []
  },
  {
   "cell_type": "code",
   "execution_count": null,
   "id": "2d60bbaf",
   "metadata": {},
   "outputs": [],
   "source": []
  }
 ],
 "metadata": {
  "kernelspec": {
   "display_name": "Python 3 (ipykernel)",
   "language": "python",
   "name": "python3"
  },
  "language_info": {
   "codemirror_mode": {
    "name": "ipython",
    "version": 3
   },
   "file_extension": ".py",
   "mimetype": "text/x-python",
   "name": "python",
   "nbconvert_exporter": "python",
   "pygments_lexer": "ipython3",
   "version": "3.10.9"
  }
 },
 "nbformat": 4,
 "nbformat_minor": 5
}
