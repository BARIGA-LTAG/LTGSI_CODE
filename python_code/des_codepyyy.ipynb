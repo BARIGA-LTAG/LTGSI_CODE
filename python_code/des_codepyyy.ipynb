{
 "cells": [
  {
   "cell_type": "code",
   "execution_count": null,
   "id": "c1dafa69",
   "metadata": {},
   "outputs": [],
   "source": [
    "Barre oblique inverse et retour à la ligne ignorés\n",
    "\\n\tSaut de ligne\n",
    "\\F\tSaut de page\n",
    "\\t\tOnglet horizontal\n",
    "\\v\tOnglet vertical\n",
    "\\r\tRetour chariot\n",
    "\\b\tRetour arrière\n",
    "\\\\\tBarre oblique inverse\n",
    "\\'\tSimple citation\n",
    "\\\"\tDouble citation"
   ]
  },
  {
   "cell_type": "code",
   "execution_count": 1,
   "id": "4c9591c3",
   "metadata": {},
   "outputs": [
    {
     "name": "stdout",
     "output_type": "stream",
     "text": [
      "Texte avant\u000b",
      "Texte après\n"
     ]
    }
   ],
   "source": [
    "print(\"Texte avant\\vTexte après\")\n"
   ]
  },
  {
   "cell_type": "code",
   "execution_count": null,
   "id": "ae11893f",
   "metadata": {},
   "outputs": [],
   "source": []
  }
 ],
 "metadata": {
  "kernelspec": {
   "display_name": "Python 3 (ipykernel)",
   "language": "python",
   "name": "python3"
  },
  "language_info": {
   "codemirror_mode": {
    "name": "ipython",
    "version": 3
   },
   "file_extension": ".py",
   "mimetype": "text/x-python",
   "name": "python",
   "nbconvert_exporter": "python",
   "pygments_lexer": "ipython3",
   "version": "3.10.9"
  }
 },
 "nbformat": 4,
 "nbformat_minor": 5
}
